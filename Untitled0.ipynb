{
 "metadata": {
  "name": "",
  "signature": "sha256:646ea113142d9934ddbccecc3ff58ec9e24d8e62caef98e2de1a3b8b6aab94ef"
 },
 "nbformat": 3,
 "nbformat_minor": 0,
 "worksheets": [
  {
   "cells": [
    {
     "cell_type": "code",
     "collapsed": false,
     "input": [
      "import pandas as pd\n",
      "zoonames =['animal name','hair','feathers','eggs','milk','airborne','aquatic','predator','toothed','backbone','breathes',\n",
      "           'venomus','fins','legs','Tail','domestic','catsize','type']\n",
      "zoodata = pd.read_table('http://archive.ics.uci.edu/ml/machine-learning-databases/zoo/zoo.data',sep = ',',names = zoonames)"
     ],
     "language": "python",
     "metadata": {},
     "outputs": [],
     "prompt_number": 4
    },
    {
     "cell_type": "code",
     "collapsed": false,
     "input": [
      "zooarray = [zoodata.hair, zoodata.feathers,zoodata.eggs,zoodata.milk,zoodata.airborne,zoodata.aquatic,zoodata.predator,\n",
      "            zoodata.toothed,zoodata.backbone,zoodata.breathes,zoodata.venomus,zoodata.fins,zoodata.Tail,zoodata.domestic,\n",
      "            zoodata.catsize]\n",
      "for k in zooarray:\n",
      "    for i in range(101):\n",
      "        if k[i]==1:\n",
      "            k[i]='true'\n",
      "        elif k[i]==0:\n",
      "            k[i]='false'\n",
      "            \n"
     ],
     "language": "python",
     "metadata": {},
     "outputs": [],
     "prompt_number": 13
    },
    {
     "cell_type": "code",
     "collapsed": false,
     "input": [
      "zoodata.to_csv('/Users/Kevin/desktop/CS582/02lab/output.txt', sep=',',index=False)\n",
      " "
     ],
     "language": "python",
     "metadata": {},
     "outputs": [],
     "prompt_number": 98
    }
   ],
   "metadata": {}
  }
 ]
}